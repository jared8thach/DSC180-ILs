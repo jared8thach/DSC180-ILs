{
 "cells": [
  {
   "cell_type": "code",
   "execution_count": 1,
   "id": "d7836a10-9f1b-41de-beb9-e4c8d9bb158b",
   "metadata": {},
   "outputs": [],
   "source": [
    "import os\n",
    "import pandas as pd\n",
    "import sqlite3"
   ]
  },
  {
   "cell_type": "code",
   "execution_count": 39,
   "id": "18cc3447-b8ff-4b7a-ba6d-422dcd7c03c0",
   "metadata": {},
   "outputs": [],
   "source": [
    "# helper function to join tables across different database (.db) files\n",
    "def join_tables(tables):\n",
    "    \n",
    "    df = tables[0]\n",
    "    for table in tables[1:]:\n",
    "        df = pd.concat([df, table])\n",
    "        \n",
    "    return df.reset_index(drop=True)\n",
    "\n",
    "# joining all database (.db) files of folder\n",
    "def get_all_databases(folder):\n",
    "    \n",
    "    string_tables = []\n",
    "    ull_tables = []\n",
    "    files = os.listdir(folder)\n",
    "    \n",
    "    # iterating through all files of folder to append tables\n",
    "    for file in files:\n",
    "        path = os.path.join(folder, file)\n",
    "        con = sqlite3.connect(path)\n",
    "        string_tables.append(pd.read_sql_query('SELECT * FROM COUNTERS_STRING_TIME_DATA', con))\n",
    "        ull_tables.append(pd.read_sql_query('SELECT * FROM COUNTERS_ULL_TIME_DATA', con))\n",
    "        \n",
    "    # concatenating tables into single DataFrames\n",
    "    string_df = join_tables(string_tables)\n",
    "    ull_df = join_tables(ull_tables)\n",
    "    \n",
    "    return (string_df, ull_df)"
   ]
  },
  {
   "cell_type": "code",
   "execution_count": 54,
   "id": "afc47021-ac82-41c2-bd2c-b6d8c1eda612",
   "metadata": {},
   "outputs": [],
   "source": [
    "# LAPTOP-MP2GILK8\n",
    "string_df_0, ull_df_0 = get_all_databases('group3_collected_data')\n",
    "\n",
    "# DESKTOP-E83M0TM\n",
    "string_df_1, ull_df_1 = get_all_databases('group3_collected_data_pc_1')"
   ]
  },
  {
   "cell_type": "code",
   "execution_count": 51,
   "id": "54948339-e1d7-4842-8197-10a1ff6e2182",
   "metadata": {
    "collapsed": true,
    "jupyter": {
     "outputs_hidden": true
    },
    "tags": []
   },
   "outputs": [
    {
     "data": {
      "text/plain": [
       "chrome.exe                              1028\n",
       "explorer.exe                             730\n",
       "Discord.exe                              342\n",
       "devenv.exe                               320\n",
       "cmd.exe                                  240\n",
       "Teams.exe                                239\n",
       "DB Browser for SQLite.exe                164\n",
       "Spotify.exe                              157\n",
       "Zoom.exe                                 119\n",
       "ShellExperienceHost.exe                   74\n",
       "SystemSettings.exe                        65\n",
       "WWAHost.exe                               61\n",
       "VsDebugConsole.exe                        50\n",
       "SearchApp.exe                             45\n",
       "SndVol.exe                                32\n",
       "msedge.exe                                30\n",
       "Microsoft.AAD.BrokerPlugin.exe            23\n",
       "ScreenClippingHost.exe                    21\n",
       "python.exe                                17\n",
       "notepad.exe                               15\n",
       "Taskmgr.exe                               15\n",
       "notepad++.exe                             14\n",
       "steamwebhelper.exe                        12\n",
       "steam.exe                                 11\n",
       "StartMenuExperienceHost.exe               11\n",
       "mmc.exe                                   10\n",
       "GitHubDesktop.exe                          8\n",
       "vpnui.exe                                  7\n",
       "WindowsCamera.exe                          7\n",
       "Microsoft.Photos.exe                       5\n",
       "ScreenSketch.exe                           5\n",
       "WinStore.App.exe                           5\n",
       "LockApp.exe                                5\n",
       "rundll32.exe                               5\n",
       "PaintStudio.View.exe                       4\n",
       "Anaconda3-2021.11-Windows-x86_64.exe       4\n",
       "HxOutlook.exe                              4\n",
       "Video.UI.exe                               3\n",
       "Microsoft.Notes.exe                        3\n",
       "ApplicationFrameHost.exe                   2\n",
       "PickerHost.exe                             2\n",
       "EaseOfAccessDialog.exe                     1\n",
       "OpenWith.exe                               1\n",
       "NVIDIA Notification.exe                    1\n",
       "WerFault.exe                               1\n",
       "npp.8.1.9.2.Installer.exe                  1\n",
       "zCefAgent.exe                              1\n",
       "GUP.exe                                    1\n",
       "LenovoVantage.exe                          1\n",
       "msiexec.exe                                1\n",
       "Installer.exe                              1\n",
       "Name: VALUE, dtype: int64"
      ]
     },
     "execution_count": 51,
     "metadata": {},
     "output_type": "execute_result"
    }
   ],
   "source": [
    "# getting value counts of foreground applications on LAPTOP-MP2GILK8\n",
    "string_df_0[string_df_0['ID_INPUT'] == 3]['VALUE'].value_counts()"
   ]
  },
  {
   "cell_type": "code",
   "execution_count": 53,
   "id": "db1617cd-9d5b-4121-8897-29b050789b6a",
   "metadata": {
    "collapsed": true,
    "jupyter": {
     "outputs_hidden": true
    },
    "tags": []
   },
   "outputs": [
    {
     "data": {
      "text/plain": [
       "chrome.exe                              495\n",
       "explorer.exe                            374\n",
       "Discord.exe                             213\n",
       "cmd.exe                                 137\n",
       "Spotify.exe                              96\n",
       "Among Us.exe                             82\n",
       "ShellExperienceHost.exe                  59\n",
       "SearchApp.exe                            54\n",
       "steamwebhelper.exe                       53\n",
       "SystemSettings.exe                       50\n",
       "SndVol.exe                               45\n",
       "Video.UI.exe                             43\n",
       "msedge.exe                               42\n",
       "csgo.exe                                 31\n",
       "RadeonSoftware.exe                       27\n",
       "ApplicationFrameHost.exe                 23\n",
       "StartMenuExperienceHost.exe              23\n",
       "Zoom.exe                                 18\n",
       "steam.exe                                18\n",
       "HxOutlook.exe                            14\n",
       "r5apex.exe                               14\n",
       "pythonw.exe                              12\n",
       "Anaconda3-2021.11-Windows-x86_64.exe      9\n",
       "lghub.exe                                 9\n",
       "VALORANT-Win64-Shipping.exe               9\n",
       "Taskmgr.exe                               9\n",
       "LockApp.exe                               6\n",
       "ScreenClippingHost.exe                    6\n",
       "mmc.exe                                   6\n",
       "Blitz.exe                                 5\n",
       "Un_A.exe                                  5\n",
       "rundll32.exe                              3\n",
       "RiotClientUx.exe                          3\n",
       "EasyAntiCheat_launcher.exe                3\n",
       "WinStore.App.exe                          2\n",
       "GetHelp.exe                               1\n",
       "msedgewebview2.exe                        1\n",
       "amdow.exe                                 1\n",
       "ScreenSketch.exe                          1\n",
       "EaseOfAccessDialog.exe                    1\n",
       "vpnui.exe                                 1\n",
       "_conda.exe                                1\n",
       "Name: VALUE, dtype: int64"
      ]
     },
     "execution_count": 53,
     "metadata": {},
     "output_type": "execute_result"
    }
   ],
   "source": [
    "# getting value counts of foreground applications on DESKTOP-E83M0TM\n",
    "string_df_1[string_df_1['ID_INPUT'] == 3]['VALUE'].value_counts()"
   ]
  },
  {
   "cell_type": "code",
   "execution_count": null,
   "id": "b70fdc1d-587c-4798-8be9-6ab89f3f5c5a",
   "metadata": {},
   "outputs": [],
   "source": []
  }
 ],
 "metadata": {
  "kernelspec": {
   "display_name": "Python 3 (ipykernel)",
   "language": "python",
   "name": "python3"
  },
  "language_info": {
   "codemirror_mode": {
    "name": "ipython",
    "version": 3
   },
   "file_extension": ".py",
   "mimetype": "text/x-python",
   "name": "python",
   "nbconvert_exporter": "python",
   "pygments_lexer": "ipython3",
   "version": "3.9.7"
  }
 },
 "nbformat": 4,
 "nbformat_minor": 5
}
