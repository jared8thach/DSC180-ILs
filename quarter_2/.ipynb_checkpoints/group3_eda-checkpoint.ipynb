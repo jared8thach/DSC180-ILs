{
 "cells": [
  {
   "cell_type": "code",
   "execution_count": 8,
   "id": "d7836a10-9f1b-41de-beb9-e4c8d9bb158b",
   "metadata": {},
   "outputs": [],
   "source": [
    "import os\n",
    "import pandas as pd\n",
    "import sqlite3\n",
    "import matplotlib.pyplot as plt"
   ]
  },
  {
   "cell_type": "markdown",
   "id": "5d94b029-9910-4002-99fa-c0dd5d567208",
   "metadata": {},
   "source": [
    "# Reading Data using Pandas and SQLite3"
   ]
  },
  {
   "cell_type": "code",
   "execution_count": 3,
   "id": "18cc3447-b8ff-4b7a-ba6d-422dcd7c03c0",
   "metadata": {},
   "outputs": [],
   "source": [
    "# helper function to join tables across different database (.db) files\n",
    "def join_tables(tables):\n",
    "    \n",
    "    df = tables[0]\n",
    "    for table in tables[1:]:\n",
    "        df = pd.concat([df, table])\n",
    "        \n",
    "    return df.reset_index(drop=True)\n",
    "\n",
    "# joining all database (.db) files of folder\n",
    "def get_all_databases(folder):\n",
    "    \n",
    "    string_tables = []\n",
    "    ull_tables = []\n",
    "    files = os.listdir(folder)\n",
    "    \n",
    "    # iterating through all files of folder to append tables\n",
    "    for file in files:\n",
    "        path = os.path.join(folder, file)\n",
    "        con = sqlite3.connect(path)\n",
    "        string_tables.append(pd.read_sql_query('SELECT * FROM COUNTERS_STRING_TIME_DATA', con))\n",
    "        ull_tables.append(pd.read_sql_query('SELECT * FROM COUNTERS_ULL_TIME_DATA', con))\n",
    "        \n",
    "    # concatenating tables into single DataFrames\n",
    "    string_df = join_tables(string_tables)\n",
    "    ull_df = join_tables(ull_tables)\n",
    "    \n",
    "    return (string_df, ull_df)"
   ]
  },
  {
   "cell_type": "code",
   "execution_count": 4,
   "id": "afc47021-ac82-41c2-bd2c-b6d8c1eda612",
   "metadata": {},
   "outputs": [],
   "source": [
    "# LAPTOP-MP2GILK8\n",
    "string_df_0, ull_df_0 = get_all_databases('group3_collected_data')\n",
    "\n",
    "# DESKTOP-E83M0TM\n",
    "string_df_1, ull_df_1 = get_all_databases('group3_collected_data_pc_1')"
   ]
  },
  {
   "cell_type": "code",
   "execution_count": 6,
   "id": "8d45e29e-879c-49d5-a055-1bbf96e98199",
   "metadata": {},
   "outputs": [
    {
     "data": {
      "text/html": [
       "<div>\n",
       "<style scoped>\n",
       "    .dataframe tbody tr th:only-of-type {\n",
       "        vertical-align: middle;\n",
       "    }\n",
       "\n",
       "    .dataframe tbody tr th {\n",
       "        vertical-align: top;\n",
       "    }\n",
       "\n",
       "    .dataframe thead th {\n",
       "        text-align: right;\n",
       "    }\n",
       "</style>\n",
       "<table border=\"1\" class=\"dataframe\">\n",
       "  <thead>\n",
       "    <tr style=\"text-align: right;\">\n",
       "      <th></th>\n",
       "      <th>MEASUREMENT_TIME</th>\n",
       "      <th>ID_INPUT</th>\n",
       "      <th>VALUE</th>\n",
       "      <th>PRIVATE_DATA</th>\n",
       "    </tr>\n",
       "  </thead>\n",
       "  <tbody>\n",
       "    <tr>\n",
       "      <th>0</th>\n",
       "      <td>2021-11-20 21:30:29.491</td>\n",
       "      <td>2</td>\n",
       "      <td>IDC_ARROW</td>\n",
       "      <td>0</td>\n",
       "    </tr>\n",
       "    <tr>\n",
       "      <th>1</th>\n",
       "      <td>2021-11-20 21:30:30.578</td>\n",
       "      <td>3</td>\n",
       "      <td>cmd.exe</td>\n",
       "      <td>0</td>\n",
       "    </tr>\n",
       "    <tr>\n",
       "      <th>2</th>\n",
       "      <td>2021-11-20 21:30:31.512</td>\n",
       "      <td>2</td>\n",
       "      <td>IDC_SIZEWE</td>\n",
       "      <td>0</td>\n",
       "    </tr>\n",
       "    <tr>\n",
       "      <th>3</th>\n",
       "      <td>2021-11-20 21:30:31.847</td>\n",
       "      <td>2</td>\n",
       "      <td>IDC_ARROW</td>\n",
       "      <td>0</td>\n",
       "    </tr>\n",
       "    <tr>\n",
       "      <th>4</th>\n",
       "      <td>2021-11-20 21:30:34.994</td>\n",
       "      <td>2</td>\n",
       "      <td>IDC_HAND</td>\n",
       "      <td>0</td>\n",
       "    </tr>\n",
       "  </tbody>\n",
       "</table>\n",
       "</div>"
      ],
      "text/plain": [
       "          MEASUREMENT_TIME  ID_INPUT       VALUE PRIVATE_DATA\n",
       "0  2021-11-20 21:30:29.491         2   IDC_ARROW            0\n",
       "1  2021-11-20 21:30:30.578         3     cmd.exe            0\n",
       "2  2021-11-20 21:30:31.512         2  IDC_SIZEWE            0\n",
       "3  2021-11-20 21:30:31.847         2   IDC_ARROW            0\n",
       "4  2021-11-20 21:30:34.994         2    IDC_HAND            0"
      ]
     },
     "metadata": {},
     "output_type": "display_data"
    },
    {
     "data": {
      "text/html": [
       "<div>\n",
       "<style scoped>\n",
       "    .dataframe tbody tr th:only-of-type {\n",
       "        vertical-align: middle;\n",
       "    }\n",
       "\n",
       "    .dataframe tbody tr th {\n",
       "        vertical-align: top;\n",
       "    }\n",
       "\n",
       "    .dataframe thead th {\n",
       "        text-align: right;\n",
       "    }\n",
       "</style>\n",
       "<table border=\"1\" class=\"dataframe\">\n",
       "  <thead>\n",
       "    <tr style=\"text-align: right;\">\n",
       "      <th></th>\n",
       "      <th>MEASUREMENT_TIME</th>\n",
       "      <th>ID_INPUT</th>\n",
       "      <th>VALUE</th>\n",
       "      <th>PRIVATE_DATA</th>\n",
       "    </tr>\n",
       "  </thead>\n",
       "  <tbody>\n",
       "    <tr>\n",
       "      <th>0</th>\n",
       "      <td>2021-11-20 21:30:29.436</td>\n",
       "      <td>0</td>\n",
       "      <td>791</td>\n",
       "      <td>0</td>\n",
       "    </tr>\n",
       "    <tr>\n",
       "      <th>1</th>\n",
       "      <td>2021-11-20 21:30:29.436</td>\n",
       "      <td>1</td>\n",
       "      <td>108</td>\n",
       "      <td>0</td>\n",
       "    </tr>\n",
       "    <tr>\n",
       "      <th>2</th>\n",
       "      <td>2021-11-20 21:30:30.442</td>\n",
       "      <td>0</td>\n",
       "      <td>814</td>\n",
       "      <td>0</td>\n",
       "    </tr>\n",
       "    <tr>\n",
       "      <th>3</th>\n",
       "      <td>2021-11-20 21:30:30.442</td>\n",
       "      <td>1</td>\n",
       "      <td>70</td>\n",
       "      <td>0</td>\n",
       "    </tr>\n",
       "    <tr>\n",
       "      <th>4</th>\n",
       "      <td>2021-11-20 21:30:30.578</td>\n",
       "      <td>4</td>\n",
       "      <td>2072</td>\n",
       "      <td>0</td>\n",
       "    </tr>\n",
       "  </tbody>\n",
       "</table>\n",
       "</div>"
      ],
      "text/plain": [
       "          MEASUREMENT_TIME ID_INPUT VALUE PRIVATE_DATA\n",
       "0  2021-11-20 21:30:29.436        0   791            0\n",
       "1  2021-11-20 21:30:29.436        1   108            0\n",
       "2  2021-11-20 21:30:30.442        0   814            0\n",
       "3  2021-11-20 21:30:30.442        1    70            0\n",
       "4  2021-11-20 21:30:30.578        4  2072            0"
      ]
     },
     "metadata": {},
     "output_type": "display_data"
    }
   ],
   "source": [
    "display(string_df_0.head())\n",
    "display(ull_df_0.head())"
   ]
  },
  {
   "cell_type": "markdown",
   "id": "60fa47a9-9103-457a-b885-5765ef0a9b1e",
   "metadata": {},
   "source": [
    "# Exploratory Data Analysis"
   ]
  },
  {
   "cell_type": "code",
   "execution_count": 7,
   "id": "54948339-e1d7-4842-8197-10a1ff6e2182",
   "metadata": {
    "tags": []
   },
   "outputs": [
    {
     "data": {
      "text/plain": [
       "chrome.exe                              1028\n",
       "explorer.exe                             730\n",
       "Discord.exe                              342\n",
       "devenv.exe                               320\n",
       "cmd.exe                                  240\n",
       "Teams.exe                                239\n",
       "DB Browser for SQLite.exe                164\n",
       "Spotify.exe                              157\n",
       "Zoom.exe                                 119\n",
       "ShellExperienceHost.exe                   74\n",
       "SystemSettings.exe                        65\n",
       "WWAHost.exe                               61\n",
       "VsDebugConsole.exe                        50\n",
       "SearchApp.exe                             45\n",
       "SndVol.exe                                32\n",
       "msedge.exe                                30\n",
       "Microsoft.AAD.BrokerPlugin.exe            23\n",
       "ScreenClippingHost.exe                    21\n",
       "python.exe                                17\n",
       "notepad.exe                               15\n",
       "Taskmgr.exe                               15\n",
       "notepad++.exe                             14\n",
       "steamwebhelper.exe                        12\n",
       "steam.exe                                 11\n",
       "StartMenuExperienceHost.exe               11\n",
       "mmc.exe                                   10\n",
       "GitHubDesktop.exe                          8\n",
       "vpnui.exe                                  7\n",
       "WindowsCamera.exe                          7\n",
       "Microsoft.Photos.exe                       5\n",
       "ScreenSketch.exe                           5\n",
       "WinStore.App.exe                           5\n",
       "LockApp.exe                                5\n",
       "rundll32.exe                               5\n",
       "PaintStudio.View.exe                       4\n",
       "Anaconda3-2021.11-Windows-x86_64.exe       4\n",
       "HxOutlook.exe                              4\n",
       "Video.UI.exe                               3\n",
       "Microsoft.Notes.exe                        3\n",
       "ApplicationFrameHost.exe                   2\n",
       "PickerHost.exe                             2\n",
       "EaseOfAccessDialog.exe                     1\n",
       "OpenWith.exe                               1\n",
       "NVIDIA Notification.exe                    1\n",
       "WerFault.exe                               1\n",
       "npp.8.1.9.2.Installer.exe                  1\n",
       "zCefAgent.exe                              1\n",
       "GUP.exe                                    1\n",
       "LenovoVantage.exe                          1\n",
       "msiexec.exe                                1\n",
       "Installer.exe                              1\n",
       "Name: VALUE, dtype: int64"
      ]
     },
     "execution_count": 7,
     "metadata": {},
     "output_type": "execute_result"
    }
   ],
   "source": [
    "# getting value counts of foreground applications on LAPTOP-MP2GILK8\n",
    "foreground_0 = string_df_0[string_df_0['ID_INPUT'] == 3]['VALUE'].value_counts()\n",
    "foreground_0"
   ]
  },
  {
   "cell_type": "code",
   "execution_count": 20,
   "id": "0087c0e6-50c8-43dc-9c23-9cae19cdd61d",
   "metadata": {},
   "outputs": [
    {
     "data": {
      "image/png": "[encoded data removed]",
      "text/plain": [
       "<Figure size 432x288 with 1 Axes>"
      ]
     },
     "metadata": {
      "needs_background": "light"
     },
     "output_type": "display_data"
    }
   ],
   "source": [
    "plt.bar(x=foreground_0.index[:10], height=foreground_0.values[:10])\n",
    "plt.xticks(rotation=90);\n",
    "plt.title('Top 10 Foreground Applications of LAPTOP-MP2GILK8');"
   ]
  },
  {
   "cell_type": "code",
   "execution_count": 21,
   "id": "db1617cd-9d5b-4121-8897-29b050789b6a",
   "metadata": {
    "tags": []
   },
   "outputs": [
    {
     "data": {
      "text/plain": [
       "chrome.exe                              495\n",
       "explorer.exe                            374\n",
       "Discord.exe                             213\n",
       "cmd.exe                                 137\n",
       "Spotify.exe                              96\n",
       "Among Us.exe                             82\n",
       "ShellExperienceHost.exe                  59\n",
       "SearchApp.exe                            54\n",
       "steamwebhelper.exe                       53\n",
       "SystemSettings.exe                       50\n",
       "SndVol.exe                               45\n",
       "Video.UI.exe                             43\n",
       "msedge.exe                               42\n",
       "csgo.exe                                 31\n",
       "RadeonSoftware.exe                       27\n",
       "ApplicationFrameHost.exe                 23\n",
       "StartMenuExperienceHost.exe              23\n",
       "Zoom.exe                                 18\n",
       "steam.exe                                18\n",
       "HxOutlook.exe                            14\n",
       "r5apex.exe                               14\n",
       "pythonw.exe                              12\n",
       "Anaconda3-2021.11-Windows-x86_64.exe      9\n",
       "lghub.exe                                 9\n",
       "VALORANT-Win64-Shipping.exe               9\n",
       "Taskmgr.exe                               9\n",
       "LockApp.exe                               6\n",
       "ScreenClippingHost.exe                    6\n",
       "mmc.exe                                   6\n",
       "Blitz.exe                                 5\n",
       "Un_A.exe                                  5\n",
       "rundll32.exe                              3\n",
       "RiotClientUx.exe                          3\n",
       "EasyAntiCheat_launcher.exe                3\n",
       "WinStore.App.exe                          2\n",
       "GetHelp.exe                               1\n",
       "msedgewebview2.exe                        1\n",
       "amdow.exe                                 1\n",
       "ScreenSketch.exe                          1\n",
       "EaseOfAccessDialog.exe                    1\n",
       "vpnui.exe                                 1\n",
       "_conda.exe                                1\n",
       "Name: VALUE, dtype: int64"
      ]
     },
     "execution_count": 21,
     "metadata": {},
     "output_type": "execute_result"
    }
   ],
   "source": [
    "# getting value counts of foreground applications on DESKTOP-E83M0TM\n",
    "foreground_1 = string_df_1[string_df_1['ID_INPUT'] == 3]['VALUE'].value_counts()\n",
    "foreground_1"
   ]
  },
  {
   "cell_type": "code",
   "execution_count": 56,
   "id": "41421c41-ca2f-4881-bef3-1193d619949b",
   "metadata": {},
   "outputs": [
    {
     "data": {
      "image/png": "[encoded data removed]",
      "text/plain": [
       "<Figure size 1080x360 with 2 Axes>"
      ]
     },
     "metadata": {
      "needs_background": "light"
     },
     "output_type": "display_data"
    }
   ],
   "source": [
    "fig, (ax1, ax2) = plt.subplots(1, 2, figsize=(15,5))\n",
    "fig.suptitle('Top 10 Foreground Applications')\n",
    "\n",
    "ax1.bar(x=foreground_0.index[:10], height=foreground_0.values[:10])\n",
    "ax1.tick_params(rotation=90);\n",
    "ax1.set_title('LAPTOP-MP2GILK8');\n",
    "\n",
    "ax2.bar(x=foreground_1.index[:10], height=foreground_1.values[:10], color='red')\n",
    "ax2.tick_params(rotation=90);\n",
    "ax2.set_title('DESKTOP-E83M0TM');"
   ]
  }
 ],
 "metadata": {
  "kernelspec": {
   "display_name": "Python 3 (ipykernel)",
   "language": "python",
   "name": "python3"
  },
  "language_info": {
   "codemirror_mode": {
    "name": "ipython",
    "version": 3
   },
   "file_extension": ".py",
   "mimetype": "text/x-python",
   "name": "python",
   "nbconvert_exporter": "python",
   "pygments_lexer": "ipython3",
   "version": "3.9.7"
  }
 },
 "nbformat": 4,
 "nbformat_minor": 5
}
