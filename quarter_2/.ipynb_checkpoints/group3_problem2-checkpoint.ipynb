{
 "cells": [
  {
   "cell_type": "code",
   "execution_count": 1,
   "id": "d7836a10-9f1b-41de-beb9-e4c8d9bb158b",
   "metadata": {},
   "outputs": [],
   "source": [
    "import os\n",
    "import pandas as pd\n",
    "import numpy as np\n",
    "import sqlite3\n",
    "import matplotlib.pyplot as plt\n",
    "from collections import defaultdict\n",
    "from sklearn.model_selection import train_test_split\n",
    "from sklearn.preprocessing import OrdinalEncoder"
   ]
  },
  {
   "cell_type": "markdown",
   "id": "5d94b029-9910-4002-99fa-c0dd5d567208",
   "metadata": {},
   "source": [
    "# Reading Data using Pandas and SQLite3"
   ]
  },
  {
   "cell_type": "code",
   "execution_count": 2,
   "id": "18cc3447-b8ff-4b7a-ba6d-422dcd7c03c0",
   "metadata": {},
   "outputs": [],
   "source": [
    "# helper function to join tables across different database (.db) files\n",
    "def join_tables(tables):\n",
    "    \n",
    "    df = tables[0]\n",
    "    for table in tables[1:]:\n",
    "        df = pd.concat([df, table])\n",
    "        \n",
    "    return df.reset_index(drop=True)\n",
    "\n",
    "# joining all database (.db) files of folder\n",
    "def get_all_databases(folder):\n",
    "    \n",
    "    string_tables = []\n",
    "    ull_tables = []\n",
    "    files = os.listdir(folder)\n",
    "    \n",
    "    # iterating through all files of folder to append tables\n",
    "    for file in files:\n",
    "        path = os.path.join(folder, file)\n",
    "        con = sqlite3.connect(path)\n",
    "        string_tables.append(pd.read_sql_query('SELECT COUNTERS_STRING_TIME_DATA.*, INPUTS.INPUT_DESCRIPTION FROM COUNTERS_STRING_TIME_DATA LEFT JOIN INPUTS WHERE COUNTERS_STRING_TIME_DATA.ID_INPUT == INPUTS.ID_INPUT', con))\n",
    "        ull_tables.append(pd.read_sql_query('SELECT COUNTERS_ULL_TIME_DATA.*, INPUTS.INPUT_DESCRIPTION FROM COUNTERS_ULL_TIME_DATA LEFT JOIN INPUTS WHERE COUNTERS_ULL_TIME_DATA.ID_INPUT == INPUTS.ID_INPUT', con))\n",
    "        \n",
    "    # concatenating tables into single DataFrames\n",
    "    string_df = join_tables(string_tables)\n",
    "    string_df.loc[:, 'VALUE'] = string_df.loc[:, 'VALUE'].replace({'WWAHost.exe': 'Netflix.exe'}) \n",
    "    string_df.loc[:, 'VALUE'] = string_df.loc[:, 'VALUE'].str.lower()\n",
    "    string_df.loc[string_df['INPUT_DESCRIPTION'] == 'Mouse cursor icon state.', 'ID_INPUT'] = 2\n",
    "    string_df.loc[string_df['INPUT_DESCRIPTION'] == 'Foreground window .exe process.', 'ID_INPUT'] = 3\n",
    "    ull_df = join_tables(ull_tables)\n",
    "    ull_df.loc[ull_df['INPUT_DESCRIPTION'] == 'Mouse X position in pixel(s)', 'ID_INPUT'] = 0\n",
    "    ull_df.loc[ull_df['INPUT_DESCRIPTION'] == 'Mouse Y position in pixel(s)', 'ID_INPUT'] = 1\n",
    "    ull_df.loc[ull_df['INPUT_DESCRIPTION'] == 'Foreground window is immersive.', 'ID_INPUT'] = 4\n",
    "    ull_df.loc[ull_df['INPUT_DESCRIPTION'] == 'Foreground window is hung.', 'ID_INPUT'] = 5\n",
    "    return (string_df.drop('INPUT_DESCRIPTION', axis=1), ull_df.drop('INPUT_DESCRIPTION', axis=1))\n",
    "    \n",
    "    return (string_df, ull_df)"
   ]
  },
  {
   "cell_type": "code",
   "execution_count": 3,
   "id": "db424c79-aaee-469e-b3af-13e2a354f840",
   "metadata": {
    "tags": []
   },
   "outputs": [],
   "source": [
    "def clean(df, condition_1=True):\n",
    "    \n",
    "    sequence = df[df['ID_INPUT'] == 3]['VALUE'].values\n",
    "    pairs = []\n",
    "    \n",
    "    for i in range(len(sequence)-1):\n",
    "        if condition_1 == True:\n",
    "            if sequence[i] == sequence[i+1]:\n",
    "                continue\n",
    "            else:\n",
    "                pairs.append([sequence[i], sequence[i+1]])\n",
    "        else:\n",
    "            pairs.append([sequence[i], sequence[i+1]])\n",
    "        \n",
    "    return pd.DataFrame(pairs, columns=['X', 'y'])\n",
    "\n",
    "class first_order_HMM(object):\n",
    "    \n",
    "    def __init__(self, computer=0):\n",
    "        if computer == 0:\n",
    "            self.uniques = sorted(string_df_0[string_df_0['ID_INPUT'] == 3]['VALUE'].unique())\n",
    "        else:\n",
    "            self.uniques = sorted(string_df_1[string_df_1['ID_INPUT'] == 3]['VALUE'].unique())\n",
    "        self.data = pd.DataFrame()\n",
    "        self.counts = defaultdict(float)\n",
    "        self.priors = defaultdict(float)\n",
    "        self.posteriors = defaultdict(float)\n",
    "\n",
    "    def fit(self, X, y):\n",
    "        \"\"\"\n",
    "        inputs :\n",
    "            X : a list of prior foreground applications\n",
    "            y : a list of subsequent foreground applications from the prior foreground applications\n",
    "            \n",
    "        outputs:\n",
    "            None\n",
    "        \"\"\"\n",
    "        \n",
    "        self.data = pd.DataFrame({'X': X, 'y': y})\n",
    "        \n",
    "        def get_counts():\n",
    "            counts = defaultdict(float)\n",
    "            for foreground in self.data.values:\n",
    "                counts[foreground[0]] += 1\n",
    "            counts[self.data.values[-1][1]] += 1\n",
    "            return pd.Series(dict(sorted(counts.items())))\n",
    "        \n",
    "        def get_priors():\n",
    "            priors = defaultdict(float)\n",
    "            # getting percentage of each unique foreground's occurrence\n",
    "            for foreground, count in self.counts.items():\n",
    "                priors[foreground] = count / (len(self.data.values) + 1)\n",
    "            return pd.Series(priors)\n",
    "\n",
    "        def get_posteriors():\n",
    "            # creating empty conditional probability matrix\n",
    "            posteriors = pd.DataFrame(\n",
    "                np.zeros([len(self.uniques), len(self.uniques)]), \n",
    "                index=self.uniques, \n",
    "                columns=self.uniques\n",
    "            )           \n",
    "            # counting pairs of foregrounds\n",
    "            for pair in self.data.values:\n",
    "                posteriors.loc[pair[0], pair[1]] += 1\n",
    "            # calculating conditional probability of foreground A given foreground B\n",
    "            posteriors = posteriors.apply(lambda x: x / sum(x), axis=1)\n",
    "            return posteriors\n",
    "        \n",
    "        self.counts = get_counts()\n",
    "        self.priors = get_priors()\n",
    "        self.posteriors = get_posteriors()\n",
    "    \n",
    "    def predict(self, X, n_foregrounds=1):\n",
    "        \"\"\"\n",
    "        inputs :\n",
    "            X : a list of prior foreground applications\n",
    "            n_foregrounds : number of predicted foregrounds to return (default: 1)\n",
    "            \n",
    "        outputs :\n",
    "            y : a list of predicted subsequent foreground applications \n",
    "        \"\"\"\n",
    "        \n",
    "        # outputting foreground application with maximum conditional probability\n",
    "        y = []\n",
    "        for x in X:\n",
    "            # outputting foreground application with maximum conditional probability\n",
    "            # y = np.append(y, self.posteriors.loc[x,:].idxmax())\n",
    "            y.append(list(self.posteriors.loc[x,:].sort_values(ascending=False)[:n_foregrounds].index))\n",
    "            \n",
    "        return y\n",
    "            \n",
    "    def accuracy(self, y_test, y_pred):\n",
    "        \"\"\"\n",
    "        inputs :\n",
    "            y_test : a list of true subsequent foreground applications\n",
    "            y_pred : a list of predicted subsequent foreground applications\n",
    "            \n",
    "        outputs :\n",
    "            accuracy : accuracy of trained model on y_test\n",
    "        \"\"\"\n",
    "        correct = 0\n",
    "        for i, y in enumerate(y_test):\n",
    "            if y in y_pred[i]:\n",
    "                correct += 1\n",
    "        accuracy = correct / len(y_test)\n",
    "        \n",
    "        return accuracy"
   ]
  },
  {
   "cell_type": "markdown",
   "id": "28c49fbb-9630-4eaf-b20b-72857087e579",
   "metadata": {},
   "source": [
    "# Problem 2\n",
    "Predict the total time an application is used in the foreground."
   ]
  },
  {
   "cell_type": "markdown",
   "id": "487a9c9b-e0af-4ec8-b8ba-4d960aab52b6",
   "metadata": {},
   "source": [
    "### Problem 2a"
   ]
  },
  {
   "cell_type": "code",
   "execution_count": 34,
   "id": "72e2864f-72f2-492f-9a55-916447871066",
   "metadata": {},
   "outputs": [
    {
     "data": {
      "image/png": "[encoded data removed]",
      "text/plain": [
       "<Figure size 2160x360 with 1 Axes>"
      ]
     },
     "metadata": {
      "needs_background": "light"
     },
     "output_type": "display_data"
    }
   ],
   "source": [
    "string_df_0, ull_df_0 = get_all_databases('group3_collected_data')\n",
    "\n",
    "string_df_0['MEASUREMENT_TIME'] = string_df_0['MEASUREMENT_TIME'].apply(lambda x: pd.to_datetime(x).date())\n",
    "foreground_0 = string_df_0[string_df_0['ID_INPUT'] == 3].groupby('MEASUREMENT_TIME').agg('count')['VALUE']\n",
    "plt.figure(figsize=(30,5))\n",
    "plt.bar(x=foreground_0.index, height=foreground_0.values)\n",
    "plt.xticks(ticks=foreground_0.index, rotation=90, fontsize=8);"
   ]
  },
  {
   "cell_type": "code",
   "execution_count": 68,
   "id": "d356e052-aec1-42b0-be56-3fd18c43803a",
   "metadata": {},
   "outputs": [
    {
     "data": {
      "text/plain": [
       "chrome.exe                              1526\n",
       "explorer.exe                             945\n",
       "discord.exe                              371\n",
       "zoom.exe                                 339\n",
       "devenv.exe                               323\n",
       "cmd.exe                                  293\n",
       "teams.exe                                245\n",
       "spotify.exe                              192\n",
       "db browser for sqlite.exe                164\n",
       "msedge.exe                               110\n",
       "shellexperiencehost.exe                  106\n",
       "systemsettings.exe                        85\n",
       "netflix.exe                               67\n",
       "screenclippinghost.exe                    67\n",
       "vsdebugconsole.exe                        50\n",
       "searchapp.exe                             50\n",
       "steamwebhelper.exe                        32\n",
       "sndvol.exe                                32\n",
       "microsoft.aad.brokerplugin.exe            30\n",
       "steam.exe                                 23\n",
       "python.exe                                17\n",
       "javaw.exe                                 16\n",
       "taskmgr.exe                               16\n",
       "notepad.exe                               15\n",
       "notepad++.exe                             14\n",
       "startmenuexperiencehost.exe               13\n",
       "mmc.exe                                   11\n",
       "lockapp.exe                                9\n",
       "githubdesktop.exe                          8\n",
       "vpnui.exe                                  7\n",
       "windowscamera.exe                          7\n",
       "winstore.app.exe                           5\n",
       "rundll32.exe                               5\n",
       "screensketch.exe                           5\n",
       "microsoft.photos.exe                       5\n",
       "hxoutlook.exe                              4\n",
       "calculator.exe                             4\n",
       "anaconda3-2021.11-windows-x86_64.exe       4\n",
       "paintstudio.view.exe                       4\n",
       "video.ui.exe                               3\n",
       "microsoft.notes.exe                        3\n",
       "pickerhost.exe                             2\n",
       "easeofaccessdialog.exe                     2\n",
       "applicationframehost.exe                   2\n",
       "zcefagent.exe                              2\n",
       "msiexec.exe                                1\n",
       "werfault.exe                               1\n",
       "openwith.exe                               1\n",
       "gup.exe                                    1\n",
       "npp.8.1.9.2.installer.exe                  1\n",
       "nvidia notification.exe                    1\n",
       "installer.exe                              1\n",
       "lenovovantage.exe                          1\n",
       "Name: VALUE, dtype: int64"
      ]
     },
     "execution_count": 68,
     "metadata": {},
     "output_type": "execute_result"
    }
   ],
   "source": [
    "string_df_0[string_df_0['ID_INPUT'] == 3]['VALUE'].value_counts()"
   ]
  },
  {
   "cell_type": "code",
   "execution_count": 179,
   "id": "6a9b4f31-7f87-4789-b1c5-6babeb8b3ab5",
   "metadata": {
    "tags": []
   },
   "outputs": [
    {
     "data": {
      "text/html": [
       "<div>\n",
       "<style scoped>\n",
       "    .dataframe tbody tr th:only-of-type {\n",
       "        vertical-align: middle;\n",
       "    }\n",
       "\n",
       "    .dataframe tbody tr th {\n",
       "        vertical-align: top;\n",
       "    }\n",
       "\n",
       "    .dataframe thead th {\n",
       "        text-align: right;\n",
       "    }\n",
       "</style>\n",
       "<table border=\"1\" class=\"dataframe\">\n",
       "  <thead>\n",
       "    <tr style=\"text-align: right;\">\n",
       "      <th></th>\n",
       "      <th>TIME_DELTA</th>\n",
       "      <th>TIME_DELTA_1</th>\n",
       "    </tr>\n",
       "  </thead>\n",
       "  <tbody>\n",
       "    <tr>\n",
       "      <th>0</th>\n",
       "      <td>0.092650</td>\n",
       "      <td>0.055200</td>\n",
       "    </tr>\n",
       "    <tr>\n",
       "      <th>1</th>\n",
       "      <td>0.055200</td>\n",
       "      <td>0.461833</td>\n",
       "    </tr>\n",
       "    <tr>\n",
       "      <th>2</th>\n",
       "      <td>0.461833</td>\n",
       "      <td>0.014500</td>\n",
       "    </tr>\n",
       "    <tr>\n",
       "      <th>3</th>\n",
       "      <td>0.014500</td>\n",
       "      <td>9.650667</td>\n",
       "    </tr>\n",
       "    <tr>\n",
       "      <th>4</th>\n",
       "      <td>9.650667</td>\n",
       "      <td>0.176817</td>\n",
       "    </tr>\n",
       "  </tbody>\n",
       "</table>\n",
       "</div>"
      ],
      "text/plain": [
       "   TIME_DELTA  TIME_DELTA_1\n",
       "0    0.092650      0.055200\n",
       "1    0.055200      0.461833\n",
       "2    0.461833      0.014500\n",
       "3    0.014500      9.650667\n",
       "4    9.650667      0.176817"
      ]
     },
     "execution_count": 179,
     "metadata": {},
     "output_type": "execute_result"
    }
   ],
   "source": [
    "# getting string and ull data\n",
    "string_df_0, ull_df_0 = get_all_databases('group3_collected_data')\n",
    "\n",
    "# getting only chrome.exe data instances from string_df_0\n",
    "df_0 = string_df_0[string_df_0['ID_INPUT'] == 3].drop(['ID_INPUT', 'PRIVATE_DATA'], axis=1).reset_index(drop=True)\n",
    "# df_0 = df_0[df_0['VALUE'] == 'explorer.exe'].reset_index(drop=True)\n",
    "\n",
    "# converting 'MEASUREMENT_TIME' column to datetime\n",
    "df_0.loc[:, 'MEASUREMENT_TIME'] = pd.to_datetime(df_0['MEASUREMENT_TIME'])\n",
    "\n",
    "# getting values only between '2021-11-20' and '2021-12-10'\n",
    "df_0 = df_0[(df_0['MEASUREMENT_TIME'] >= pd.to_datetime('2021-11-20')) & (df_0['MEASUREMENT_TIME'] <= pd.to_datetime('2021-12-10'))].reset_index(drop=True)\n",
    "\n",
    "# using converted datetime column to get usage per application ('TIME_DELTA')\n",
    "time_delta = (df_0['MEASUREMENT_TIME'].shift(periods=-1) - df_0['MEASUREMENT_TIME']).drop(len(df_0)-1).apply(lambda x: float(x.total_seconds() / 60))\n",
    "time_delta = time_delta.append(pd.Series(-1), ignore_index=True)\n",
    "\n",
    "# getting usage per future application ('TIME_DELTA_1')\n",
    "time_delta_1 = time_delta.shift(-1)\n",
    "\n",
    "# adding 'TIME_DELTA' and 'TIME_DELTA_1' to DataFrame, dropping last instances with no values, and converting outliers (large numbers) to 60 minute values\n",
    "df_0 = df_0.assign(**{'TIME_DELTA': time_delta, 'TIME_DELTA_1': time_delta_1})\n",
    "df_0 = df_0.drop([len(df_0)-2, len(df_0)-1]).drop(['MEASUREMENT_TIME', 'VALUE'], axis=1)\n",
    "df_0 = df_0.applymap(lambda x: 60 if x > 60 else x)\n",
    "df_0.head()"
   ]
  },
  {
   "cell_type": "code",
   "execution_count": 151,
   "id": "90cd8112-4eb4-41ae-8dde-eec74559dee6",
   "metadata": {
    "tags": []
   },
   "outputs": [
    {
     "data": {
      "image/png": "[encoded data removed]",
      "text/plain": [
       "<Figure size 432x288 with 1 Axes>"
      ]
     },
     "metadata": {
      "needs_background": "light"
     },
     "output_type": "display_data"
    }
   ],
   "source": [
    "plt.hist(df_0['TIME_DELTA']);"
   ]
  },
  {
   "cell_type": "code",
   "execution_count": 224,
   "id": "559bf13c-63f6-45af-9d9d-5ab79312f835",
   "metadata": {
    "tags": []
   },
   "outputs": [
    {
     "name": "stdout",
     "output_type": "stream",
     "text": [
      "Model: \"sequential_75\"\n",
      "_________________________________________________________________\n",
      " Layer (type)                Output Shape              Param #   \n",
      "=================================================================\n",
      " lstm_148 (LSTM)             (None, 5, 64)             16896     \n",
      "                                                                 \n",
      " lstm_149 (LSTM)             (None, 32)                12416     \n",
      "                                                                 \n",
      " dropout_74 (Dropout)        (None, 32)                0         \n",
      "                                                                 \n",
      " dense_74 (Dense)            (None, 1)                 33        \n",
      "                                                                 \n",
      "=================================================================\n",
      "Total params: 29,345\n",
      "Trainable params: 29,345\n",
      "Non-trainable params: 0\n",
      "_________________________________________________________________\n",
      "Epoch 1/10\n",
      "137/137 [==============================] - 2s 6ms/step - loss: 0.9761 - val_loss: 1.1499\n",
      "Epoch 2/10\n",
      "137/137 [==============================] - 1s 4ms/step - loss: 0.9713 - val_loss: 1.1454\n",
      "Epoch 3/10\n",
      "137/137 [==============================] - 1s 5ms/step - loss: 0.9671 - val_loss: 1.1478\n",
      "Epoch 4/10\n",
      "137/137 [==============================] - 1s 4ms/step - loss: 0.9669 - val_loss: 1.1448\n",
      "Epoch 5/10\n",
      "137/137 [==============================] - 1s 4ms/step - loss: 0.9678 - val_loss: 1.1464\n",
      "Epoch 6/10\n",
      "137/137 [==============================] - 1s 4ms/step - loss: 0.9672 - val_loss: 1.1411\n",
      "Epoch 7/10\n",
      "137/137 [==============================] - 1s 4ms/step - loss: 0.9666 - val_loss: 1.1427\n",
      "Epoch 8/10\n",
      "137/137 [==============================] - 1s 4ms/step - loss: 0.9673 - val_loss: 1.1535\n",
      "Epoch 9/10\n",
      "137/137 [==============================] - 1s 4ms/step - loss: 0.9699 - val_loss: 1.1567\n",
      "Epoch 10/10\n",
      "137/137 [==============================] - 1s 4ms/step - loss: 0.9690 - val_loss: 1.1415\n"
     ]
    },
    {
     "data": {
      "text/html": [
       "<div>\n",
       "<style scoped>\n",
       "    .dataframe tbody tr th:only-of-type {\n",
       "        vertical-align: middle;\n",
       "    }\n",
       "\n",
       "    .dataframe tbody tr th {\n",
       "        vertical-align: top;\n",
       "    }\n",
       "\n",
       "    .dataframe thead th {\n",
       "        text-align: right;\n",
       "    }\n",
       "</style>\n",
       "<table border=\"1\" class=\"dataframe\">\n",
       "  <thead>\n",
       "    <tr style=\"text-align: right;\">\n",
       "      <th></th>\n",
       "      <th>t_0</th>\n",
       "      <th>t_1</th>\n",
       "      <th>t_2</th>\n",
       "      <th>t_3</th>\n",
       "      <th>t_4</th>\n",
       "    </tr>\n",
       "  </thead>\n",
       "  <tbody>\n",
       "    <tr>\n",
       "      <th>0</th>\n",
       "      <td>0.147283</td>\n",
       "      <td>0.018350</td>\n",
       "      <td>9.450033</td>\n",
       "      <td>0.048133</td>\n",
       "      <td>0.269233</td>\n",
       "    </tr>\n",
       "    <tr>\n",
       "      <th>1</th>\n",
       "      <td>0.018350</td>\n",
       "      <td>9.450033</td>\n",
       "      <td>0.048133</td>\n",
       "      <td>0.269233</td>\n",
       "      <td>0.291733</td>\n",
       "    </tr>\n",
       "    <tr>\n",
       "      <th>2</th>\n",
       "      <td>9.450033</td>\n",
       "      <td>0.048133</td>\n",
       "      <td>0.269233</td>\n",
       "      <td>0.291733</td>\n",
       "      <td>8.760283</td>\n",
       "    </tr>\n",
       "    <tr>\n",
       "      <th>3</th>\n",
       "      <td>0.048133</td>\n",
       "      <td>0.269233</td>\n",
       "      <td>0.291733</td>\n",
       "      <td>8.760283</td>\n",
       "      <td>0.013567</td>\n",
       "    </tr>\n",
       "    <tr>\n",
       "      <th>4</th>\n",
       "      <td>0.269233</td>\n",
       "      <td>0.291733</td>\n",
       "      <td>8.760283</td>\n",
       "      <td>0.013567</td>\n",
       "      <td>18.916667</td>\n",
       "    </tr>\n",
       "    <tr>\n",
       "      <th>...</th>\n",
       "      <td>...</td>\n",
       "      <td>...</td>\n",
       "      <td>...</td>\n",
       "      <td>...</td>\n",
       "      <td>...</td>\n",
       "    </tr>\n",
       "    <tr>\n",
       "      <th>596</th>\n",
       "      <td>0.024300</td>\n",
       "      <td>0.458350</td>\n",
       "      <td>0.019267</td>\n",
       "      <td>0.308550</td>\n",
       "      <td>0.301817</td>\n",
       "    </tr>\n",
       "    <tr>\n",
       "      <th>597</th>\n",
       "      <td>0.458350</td>\n",
       "      <td>0.019267</td>\n",
       "      <td>0.308550</td>\n",
       "      <td>0.301817</td>\n",
       "      <td>8.077800</td>\n",
       "    </tr>\n",
       "    <tr>\n",
       "      <th>598</th>\n",
       "      <td>0.019267</td>\n",
       "      <td>0.308550</td>\n",
       "      <td>0.301817</td>\n",
       "      <td>8.077800</td>\n",
       "      <td>0.118217</td>\n",
       "    </tr>\n",
       "    <tr>\n",
       "      <th>599</th>\n",
       "      <td>0.308550</td>\n",
       "      <td>0.301817</td>\n",
       "      <td>8.077800</td>\n",
       "      <td>0.118217</td>\n",
       "      <td>0.340633</td>\n",
       "    </tr>\n",
       "    <tr>\n",
       "      <th>600</th>\n",
       "      <td>0.301817</td>\n",
       "      <td>8.077800</td>\n",
       "      <td>0.118217</td>\n",
       "      <td>0.340633</td>\n",
       "      <td>0.056000</td>\n",
       "    </tr>\n",
       "  </tbody>\n",
       "</table>\n",
       "<p>601 rows × 5 columns</p>\n",
       "</div>"
      ],
      "text/plain": [
       "          t_0       t_1       t_2       t_3        t_4\n",
       "0    0.147283  0.018350  9.450033  0.048133   0.269233\n",
       "1    0.018350  9.450033  0.048133  0.269233   0.291733\n",
       "2    9.450033  0.048133  0.269233  0.291733   8.760283\n",
       "3    0.048133  0.269233  0.291733  8.760283   0.013567\n",
       "4    0.269233  0.291733  8.760283  0.013567  18.916667\n",
       "..        ...       ...       ...       ...        ...\n",
       "596  0.024300  0.458350  0.019267  0.308550   0.301817\n",
       "597  0.458350  0.019267  0.308550  0.301817   8.077800\n",
       "598  0.019267  0.308550  0.301817  8.077800   0.118217\n",
       "599  0.308550  0.301817  8.077800  0.118217   0.340633\n",
       "600  0.301817  8.077800  0.118217  0.340633   0.056000\n",
       "\n",
       "[601 rows x 5 columns]"
      ]
     },
     "metadata": {},
     "output_type": "display_data"
    },
    {
     "data": {
      "text/html": [
       "<div>\n",
       "<style scoped>\n",
       "    .dataframe tbody tr th:only-of-type {\n",
       "        vertical-align: middle;\n",
       "    }\n",
       "\n",
       "    .dataframe tbody tr th {\n",
       "        vertical-align: top;\n",
       "    }\n",
       "\n",
       "    .dataframe thead th {\n",
       "        text-align: right;\n",
       "    }\n",
       "</style>\n",
       "<table border=\"1\" class=\"dataframe\">\n",
       "  <thead>\n",
       "    <tr style=\"text-align: right;\">\n",
       "      <th></th>\n",
       "      <th>y_test</th>\n",
       "      <th>y_pred</th>\n",
       "    </tr>\n",
       "  </thead>\n",
       "  <tbody>\n",
       "    <tr>\n",
       "      <th>0</th>\n",
       "      <td>0.291733</td>\n",
       "      <td>1.808943</td>\n",
       "    </tr>\n",
       "    <tr>\n",
       "      <th>1</th>\n",
       "      <td>8.760283</td>\n",
       "      <td>1.790039</td>\n",
       "    </tr>\n",
       "    <tr>\n",
       "      <th>2</th>\n",
       "      <td>0.013567</td>\n",
       "      <td>2.047613</td>\n",
       "    </tr>\n",
       "    <tr>\n",
       "      <th>3</th>\n",
       "      <td>18.916667</td>\n",
       "      <td>1.734334</td>\n",
       "    </tr>\n",
       "    <tr>\n",
       "      <th>4</th>\n",
       "      <td>0.011667</td>\n",
       "      <td>2.392593</td>\n",
       "    </tr>\n",
       "    <tr>\n",
       "      <th>...</th>\n",
       "      <td>...</td>\n",
       "      <td>...</td>\n",
       "    </tr>\n",
       "    <tr>\n",
       "      <th>596</th>\n",
       "      <td>8.077800</td>\n",
       "      <td>1.286038</td>\n",
       "    </tr>\n",
       "    <tr>\n",
       "      <th>597</th>\n",
       "      <td>0.118217</td>\n",
       "      <td>1.584992</td>\n",
       "    </tr>\n",
       "    <tr>\n",
       "      <th>598</th>\n",
       "      <td>0.340633</td>\n",
       "      <td>1.700642</td>\n",
       "    </tr>\n",
       "    <tr>\n",
       "      <th>599</th>\n",
       "      <td>0.056000</td>\n",
       "      <td>1.745155</td>\n",
       "    </tr>\n",
       "    <tr>\n",
       "      <th>600</th>\n",
       "      <td>0.332217</td>\n",
       "      <td>1.724180</td>\n",
       "    </tr>\n",
       "  </tbody>\n",
       "</table>\n",
       "<p>601 rows × 2 columns</p>\n",
       "</div>"
      ],
      "text/plain": [
       "        y_test    y_pred\n",
       "0     0.291733  1.808943\n",
       "1     8.760283  1.790039\n",
       "2     0.013567  2.047613\n",
       "3    18.916667  1.734334\n",
       "4     0.011667  2.392593\n",
       "..         ...       ...\n",
       "596   8.077800  1.286038\n",
       "597   0.118217  1.584992\n",
       "598   0.340633  1.700642\n",
       "599   0.056000  1.745155\n",
       "600   0.332217  1.724180\n",
       "\n",
       "[601 rows x 2 columns]"
      ]
     },
     "metadata": {},
     "output_type": "display_data"
    },
    {
     "data": {
      "image/png": "[encoded data removed]",
      "text/plain": [
       "<Figure size 432x288 with 1 Axes>"
      ]
     },
     "metadata": {
      "needs_background": "light"
     },
     "output_type": "display_data"
    }
   ],
   "source": [
    "# importing necessary libraries\n",
    "import tensorflow as tf\n",
    "from tensorflow import keras\n",
    "from sklearn.preprocessing import StandardScaler\n",
    "from sklearn.preprocessing import Normalizer\n",
    "\n",
    "# defining training and testing sizes\n",
    "test_size = 0.2\n",
    "train_size = 1 - test_size\n",
    "n_test = int(np.ceil(len(df_0) * test_size))\n",
    "n_train = int(np.floor(len(df_0) * train_size))\n",
    "train = df_0.loc[:n_train, ['TIME_DELTA', 'TIME_DELTA_1']].to_numpy().reshape(-1,2)\n",
    "test = df_0.loc[n_train:, ['TIME_DELTA', 'TIME_DELTA_1']].to_numpy().reshape(-1,2)\n",
    "\n",
    "# fitting scaler with training set\n",
    "scaler = StandardScaler()\n",
    "scaler.fit(train[:, 0].reshape(-1,1))\n",
    "train = scaler.transform(train[:, 0].reshape(-1,1))\n",
    "test = scaler.transform(test[:, 0].reshape(-1,1))\n",
    "# train = train[:, 0].reshape(-1,1)\n",
    "# test = test[:, 0].reshape(-1,1)\n",
    "X_train, y_train = [], []\n",
    "X_test, y_test = [], []\n",
    "\n",
    "n_past = 5\n",
    "n_future = 1\n",
    "for i in range(n_past, len(train) - n_future + 1):\n",
    "    X_train.append(train[i-n_past: i])\n",
    "    y_train.append(train[i+n_future-1: i+n_future])\n",
    "X_train, y_train = np.array(X_train), np.array(y_train)\n",
    "\n",
    "for i in range(n_past, len(test) - n_future + 1):\n",
    "    X_test.append(test[i-n_past: i])\n",
    "    y_test.append(test[i+n_future-1: i+n_future])\n",
    "X_test, y_test = np.array(X_test), np.array(y_test)\n",
    "\n",
    "# splitting data into scaled training and testing sets\n",
    "# X_train, y_train = scaler.transform(train[:, 0].reshape(-1,1)), scaler.transform(train[:, 1].reshape(-1,1))\n",
    "# X_test, y_test = scaler.transform(test[:, 0].reshape(-1,1)), scaler.transform(test[:, 1].reshape(-1,1))\n",
    "# X_train, y_train = train[:, 0].reshape(-1,1), train[:, 1].reshape(-1,1)\n",
    "# X_test, y_test = test[:, 0].reshape(-1,1), test[:, 1].reshape(-1,1)\n",
    "\n",
    "# defining model with 2 LSTM layers\n",
    "model = keras.Sequential()\n",
    "model.add(keras.layers.LSTM(64, activation='relu', input_shape=(X_train.shape[1], X_train.shape[2]), return_sequences=True))\n",
    "model.add(keras.layers.LSTM(32, activation='relu'))\n",
    "model.add(keras.layers.Dropout(0.2))\n",
    "model.add(keras.layers.Dense(1))\n",
    "\n",
    "# defining optimizer and loss function\n",
    "model.compile(optimizer='adam', loss='mse')\n",
    "model.summary()\n",
    "\n",
    "# fitting model\n",
    "history = model.fit(X_train, y_train, batch_size=16, epochs=10, validation_split=0.1, shuffle=False)\n",
    "\n",
    "# getting predictions\n",
    "y_pred = model.predict(X_test)\n",
    "stats = pd.DataFrame({'y_test': scaler.inverse_transform(y_test.reshape(-1,1)).flatten(), 'y_pred': scaler.inverse_transform(y_pred.reshape(-1,1)).flatten()})\n",
    "# stats = pd.DataFrame({'X_test': X_test.flatten(), 'y_test': y_test.flatten(), 'y_pred': y_pred.flatten()})\n",
    "display(pd.DataFrame({\n",
    "    't_0': scaler.inverse_transform(X_test[:, 0]).flatten(),\n",
    "    't_1': scaler.inverse_transform(X_test[:, 1]).flatten(), \n",
    "    't_2': scaler.inverse_transform(X_test[:, 2]).flatten(),\n",
    "    't_3': scaler.inverse_transform(X_test[:, 3]).flatten(),\n",
    "    't_4': scaler.inverse_transform(X_test[:, 4]).flatten()}))\n",
    "display(stats)\n",
    "\n",
    "# plotting training and validation losses\n",
    "plt.plot(np.arange(10), history.history['loss'], label='train_loss', c='blue')\n",
    "plt.plot(np.arange(10), history.history['val_loss'], label='val_loss', c='red')\n",
    "plt.ylabel('mse loss');\n",
    "plt.xlabel('epoch');\n",
    "plt.legend();"
   ]
  },
  {
   "cell_type": "code",
   "execution_count": 214,
   "id": "a9a1330c-a741-4cff-94fc-b385fbc8b3b0",
   "metadata": {},
   "outputs": [
    {
     "data": {
      "image/png": "[encoded data removed]",
      "text/plain": [
       "<Figure size 432x288 with 1 Axes>"
      ]
     },
     "metadata": {
      "needs_background": "light"
     },
     "output_type": "display_data"
    }
   ],
   "source": [
    "plt.hist(scaler.inverse_transform(stats['y_pred'].to_numpy().reshape(-1,1)), bins=20);"
   ]
  },
  {
   "cell_type": "code",
   "execution_count": 220,
   "id": "26f904c5-0ed7-4f0f-b3ea-d26395e23db0",
   "metadata": {},
   "outputs": [
    {
     "data": {
      "text/plain": [
       "array([[-0.22924558]])"
      ]
     },
     "execution_count": 221,
     "metadata": {},
     "output_type": "execute_result"
    }
   ],
   "source": [
    "plt.hist(scaler.inverse_transform(stats['y_test'].to_numpy().reshape(-1,1)), bins=20);\n",
    "y_test"
   ]
  },
  {
   "cell_type": "markdown",
   "id": "8507a7be-d679-41ff-888c-4eda6ec4bb36",
   "metadata": {},
   "source": [
    "### Problem 2b"
   ]
  },
  {
   "cell_type": "markdown",
   "id": "8f618724-5b0d-48af-85f9-e38a5a2a7baa",
   "metadata": {},
   "source": [
    "***"
   ]
  },
  {
   "cell_type": "code",
   "execution_count": null,
   "id": "0db52443-6318-4780-a14c-63df4267c9fb",
   "metadata": {
    "tags": []
   },
   "outputs": [],
   "source": [
    "df = string_df_0[string_df_0['ID_INPUT'] == 3]\n",
    "df.loc[:, 'MEASUREMENT_TIME'] = pd.to_datetime(df['MEASUREMENT_TIME'])\n",
    "df.loc[:, 'TIME_DIFFERENCES'] = pd.Series()\n",
    "times = df['MEASUREMENT_TIME']\n",
    "for i in range(len(times)-1):\n",
    "    df['TIME_DIFFERENCES'].iloc[i] = (pd.Timedelta(times.iloc[i+1] - times.iloc[i], 'milliseconds'))\n",
    "df"
   ]
  },
  {
   "cell_type": "markdown",
   "id": "e9bdbe6e-dc8f-43e4-b22b-7b82c48eea23",
   "metadata": {},
   "source": [
    "***"
   ]
  },
  {
   "cell_type": "code",
   "execution_count": null,
   "id": "f00abdc8-06c9-4cdd-a193-5f22e76fa554",
   "metadata": {},
   "outputs": [],
   "source": [
    "temp = string_df_0.copy()"
   ]
  },
  {
   "cell_type": "code",
   "execution_count": null,
   "id": "878b5fb7-4393-4ec7-bdb8-bb834f54e35e",
   "metadata": {},
   "outputs": [],
   "source": [
    "# getting only foreground application instances\n",
    "foreground_0 = temp[temp['ID_INPUT'] == 3].reset_index(drop=True)"
   ]
  },
  {
   "cell_type": "code",
   "execution_count": null,
   "id": "b53f512a-5d2e-4d30-a624-75e7a876e8ca",
   "metadata": {},
   "outputs": [],
   "source": [
    "# getting time differences between applications and adding column to DataFrame\n",
    "time_0 = pd.to_datetime(foreground_0.iloc[:, 0]).reset_index(drop=True)\n",
    "time_1 = pd.to_datetime(foreground_0.iloc[1:, 0]).append(pd.Series(np.nan)).reset_index(drop=True)\n",
    "time_delta = (time_0 - time_1).apply(lambda x: -x.total_seconds())\n",
    "foreground_0 = foreground_0.assign(**{'TIME_DELTA': time_delta})\n",
    "\n",
    "# # removing outliers: applications that in the foreground for more than 3 hours straight\n",
    "#####\n",
    "foreground_0 = foreground_0[foreground_0['TIME_DELTA'] < 10800]"
   ]
  },
  {
   "cell_type": "code",
   "execution_count": null,
   "id": "b9bc26e8-d9b3-46aa-ad18-7d14c333803a",
   "metadata": {},
   "outputs": [],
   "source": [
    "time_delta.head()"
   ]
  },
  {
   "cell_type": "code",
   "execution_count": null,
   "id": "4b326c8f-8283-4192-8dc8-adbc93af1cbd",
   "metadata": {},
   "outputs": [],
   "source": [
    "plt.figure(figsize=(15,6))\n",
    "plt.hist(x=foreground_0['TIME_DELTA'], bins=25);\n",
    "plt.title('Distribution of Foreground Application Times');\n",
    "plt.xlabel('Time (minutes)');\n",
    "plt.ylabel('Frequency');"
   ]
  },
  {
   "cell_type": "code",
   "execution_count": null,
   "id": "9be14d9c-b2ce-4fd3-9e2b-3de2881a97f1",
   "metadata": {},
   "outputs": [],
   "source": [
    "foreground_0.head()"
   ]
  },
  {
   "cell_type": "code",
   "execution_count": null,
   "id": "e7732c8a-5622-471e-99a3-fc6bc785d72c",
   "metadata": {},
   "outputs": [],
   "source": [
    "# foreground application time count, sum, mean, and std\n",
    "stats = foreground_0.groupby(by=['VALUE']).agg(['count', 'sum', 'mean', 'std'])['TIME_DELTA']\n",
    "stats"
   ]
  },
  {
   "cell_type": "code",
   "execution_count": null,
   "id": "27bf086f-d6a7-4591-88fe-13c8437c8683",
   "metadata": {},
   "outputs": [],
   "source": [
    "# average foreground application time\n",
    "means = stats['mean'].sort_values(ascending=False)\n",
    "\n",
    "plt.figure(figsize=(20, 6))\n",
    "# removing outlier: \"startmenuexperiencehost.exe\"\n",
    "plt.bar(x=means.index[1:], height=means.values[1:])\n",
    "plt.title('Average Foreground Application Time');\n",
    "plt.xlabel('Application');\n",
    "plt.ylabel('Time (minutes)');\n",
    "plt.xticks(rotation=90);"
   ]
  },
  {
   "cell_type": "code",
   "execution_count": null,
   "id": "7da652e6-a795-45ec-bfe7-4065182c6061",
   "metadata": {},
   "outputs": [],
   "source": [
    "# cumulative foreground application time\n",
    "sums = stats['sum'].sort_values(ascending=False)\n",
    "\n",
    "plt.figure(figsize=(20, 6))\n",
    "plt.bar(x=sums.index, height=sums.values)\n",
    "plt.title('Cumulative Foreground Application Time');\n",
    "plt.xlabel('Application');\n",
    "plt.ylabel('Time (minutes)');\n",
    "plt.xticks(rotation=90);"
   ]
  },
  {
   "cell_type": "code",
   "execution_count": null,
   "id": "bac7c83c-e461-4a88-8820-ccbc2a6faa09",
   "metadata": {
    "tags": []
   },
   "outputs": [],
   "source": [
    "plt.bar(x=foreground_0['MEASUREMENT_TIME'], height=foreground_0['TIME_DELTA'])"
   ]
  },
  {
   "cell_type": "code",
   "execution_count": null,
   "id": "cdff30c0-b343-468b-8009-97cc1420fd73",
   "metadata": {},
   "outputs": [],
   "source": [
    "output = foreground_0[['VALUE', 'TIME_DELTA']]\n",
    "encoder = OrdinalEncoder()\n",
    "output['VALUE'] = encoder.fit_transform(output[['VALUE']])\n",
    "output.head()"
   ]
  },
  {
   "cell_type": "code",
   "execution_count": null,
   "id": "6415d133-cea1-4727-9d7e-a4a669bce389",
   "metadata": {},
   "outputs": [],
   "source": [
    "output.to_csv('problem_2.csv', index=False, header=False)"
   ]
  },
  {
   "cell_type": "code",
   "execution_count": null,
   "id": "a492085b-6f50-4da3-a61c-e76868345ca3",
   "metadata": {},
   "outputs": [],
   "source": []
  }
 ],
 "metadata": {
  "kernelspec": {
   "display_name": "Python 3 (ipykernel)",
   "language": "python",
   "name": "python3"
  },
  "language_info": {
   "codemirror_mode": {
    "name": "ipython",
    "version": 3
   },
   "file_extension": ".py",
   "mimetype": "text/x-python",
   "name": "python",
   "nbconvert_exporter": "python",
   "pygments_lexer": "ipython3",
   "version": "3.9.7"
  }
 },
 "nbformat": 4,
 "nbformat_minor": 5
}
