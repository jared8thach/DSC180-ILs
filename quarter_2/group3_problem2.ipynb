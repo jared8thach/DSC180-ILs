{
 "cells": [
  {
   "cell_type": "code",
   "execution_count": 89,
   "id": "d7836a10-9f1b-41de-beb9-e4c8d9bb158b",
   "metadata": {},
   "outputs": [],
   "source": [
    "import os\n",
    "import pandas as pd\n",
    "import numpy as np\n",
    "import sqlite3\n",
    "import matplotlib.pyplot as plt\n",
    "from collections import defaultdict\n",
    "from sklearn.model_selection import train_test_split\n",
    "from sklearn.preprocessing import OrdinalEncoder\n",
    "import tensorflow as tf\n",
    "from tensorflow import keras\n",
    "from sklearn.preprocessing import StandardScaler\n",
    "from sklearn.preprocessing import Normalizer"
   ]
  },
  {
   "cell_type": "markdown",
   "id": "5d94b029-9910-4002-99fa-c0dd5d567208",
   "metadata": {},
   "source": [
    "# Reading Data using Pandas and SQLite3"
   ]
  },
  {
   "cell_type": "code",
   "execution_count": 2,
   "id": "18cc3447-b8ff-4b7a-ba6d-422dcd7c03c0",
   "metadata": {},
   "outputs": [],
   "source": [
    "# helper function to join tables across different database (.db) files\n",
    "def join_tables(tables):\n",
    "    \n",
    "    df = tables[0]\n",
    "    for table in tables[1:]:\n",
    "        df = pd.concat([df, table])\n",
    "        \n",
    "    return df.reset_index(drop=True)\n",
    "\n",
    "# joining all database (.db) files of folder\n",
    "def get_all_databases(folder):\n",
    "    \n",
    "    string_tables = []\n",
    "    ull_tables = []\n",
    "    files = os.listdir(folder)\n",
    "    \n",
    "    # iterating through all files of folder to append tables\n",
    "    for file in files:\n",
    "        path = os.path.join(folder, file)\n",
    "        con = sqlite3.connect(path)\n",
    "        string_tables.append(pd.read_sql_query('SELECT COUNTERS_STRING_TIME_DATA.*, INPUTS.INPUT_DESCRIPTION FROM COUNTERS_STRING_TIME_DATA LEFT JOIN INPUTS WHERE COUNTERS_STRING_TIME_DATA.ID_INPUT == INPUTS.ID_INPUT', con))\n",
    "        ull_tables.append(pd.read_sql_query('SELECT COUNTERS_ULL_TIME_DATA.*, INPUTS.INPUT_DESCRIPTION FROM COUNTERS_ULL_TIME_DATA LEFT JOIN INPUTS WHERE COUNTERS_ULL_TIME_DATA.ID_INPUT == INPUTS.ID_INPUT', con))\n",
    "        \n",
    "    # concatenating tables into single DataFrames\n",
    "    string_df = join_tables(string_tables)\n",
    "    string_df.loc[:, 'VALUE'] = string_df.loc[:, 'VALUE'].replace({'WWAHost.exe': 'Netflix.exe'}) \n",
    "    string_df.loc[:, 'VALUE'] = string_df.loc[:, 'VALUE'].str.lower()\n",
    "    string_df.loc[string_df['INPUT_DESCRIPTION'] == 'Mouse cursor icon state.', 'ID_INPUT'] = 2\n",
    "    string_df.loc[string_df['INPUT_DESCRIPTION'] == 'Foreground window .exe process.', 'ID_INPUT'] = 3\n",
    "    ull_df = join_tables(ull_tables)\n",
    "    ull_df.loc[ull_df['INPUT_DESCRIPTION'] == 'Mouse X position in pixel(s)', 'ID_INPUT'] = 0\n",
    "    ull_df.loc[ull_df['INPUT_DESCRIPTION'] == 'Mouse Y position in pixel(s)', 'ID_INPUT'] = 1\n",
    "    ull_df.loc[ull_df['INPUT_DESCRIPTION'] == 'Foreground window is immersive.', 'ID_INPUT'] = 4\n",
    "    ull_df.loc[ull_df['INPUT_DESCRIPTION'] == 'Foreground window is hung.', 'ID_INPUT'] = 5\n",
    "    return (string_df.drop('INPUT_DESCRIPTION', axis=1), ull_df.drop('INPUT_DESCRIPTION', axis=1))"
   ]
  },
  {
   "cell_type": "markdown",
   "id": "28c49fbb-9630-4eaf-b20b-72857087e579",
   "metadata": {},
   "source": [
    "# Problem 2\n",
    "Predict the total time an application is used in the foreground."
   ]
  },
  {
   "cell_type": "markdown",
   "id": "487a9c9b-e0af-4ec8-b8ba-4d960aab52b6",
   "metadata": {},
   "source": [
    "### Problem 2a"
   ]
  },
  {
   "cell_type": "code",
   "execution_count": 75,
   "id": "66b7f673-8c2d-47e1-820e-3a6bd357aa2b",
   "metadata": {},
   "outputs": [
    {
     "name": "stderr",
     "output_type": "stream",
     "text": [
      "C:\\Users\\jared\\AppData\\Local\\Temp/ipykernel_11532/1043798672.py:21: UserWarning: FixedFormatter should only be used together with FixedLocator\n",
      "  ax1.set_xticklabels(labels=['2021-11-15','2021-12-01','2021-12-15','2022-01-01','2022-01-15','2022-02-01','2022-02-15'], rotation=45);\n",
      "C:\\Users\\jared\\AppData\\Local\\Temp/ipykernel_11532/1043798672.py:27: UserWarning: FixedFormatter should only be used together with FixedLocator\n",
      "  ax2.set_xticklabels(labels=['2021-11-15','2021-12-01','2021-12-15','2022-01-01','2022-01-15','2022-02-01','2022-02-15'], rotation=45);\n"
     ]
    },
    {
     "data": {
      "image/png": "[encoded data removed]",
      "text/plain": [
       "<Figure size 1080x360 with 2 Axes>"
      ]
     },
     "metadata": {},
     "output_type": "display_data"
    }
   ],
   "source": [
    "# getting datasets\n",
    "string_df_0, ull_df_0 = get_all_databases('group3_collected_data')\n",
    "string_df_1, ull_df_1 = get_all_databases('group3_collected_data_pc_1')\n",
    "\n",
    "# getting foregrounds of laptop\n",
    "string_df_0['MEASUREMENT_TIME'] = string_df_0['MEASUREMENT_TIME'].apply(lambda x: pd.to_datetime(x).date())\n",
    "foreground_0 = string_df_0[string_df_0['ID_INPUT'] == 3].groupby('MEASUREMENT_TIME').agg('count')['VALUE']\n",
    "\n",
    "# getting foregrounds of desktop\n",
    "string_df_1['MEASUREMENT_TIME'] = string_df_1['MEASUREMENT_TIME'].apply(lambda x: pd.to_datetime(x).date())\n",
    "foreground_1 = string_df_1[string_df_1['ID_INPUT'] == 3].groupby('MEASUREMENT_TIME').agg('count')['VALUE']\n",
    "\n",
    "# plotting\n",
    "fig, (ax1, ax2) = plt.subplots(1, 2, figsize=(15,5))\n",
    "fig.suptitle('Number of Foreground Changes Per Day')\n",
    "plt.style.use('dark_background');\n",
    "\n",
    "ax1.bar(x=foreground_0.index, height=foreground_0.values)\n",
    "# ax1.tick_params(rotation=45);\n",
    "ax1.set_title('LAPTOP-MP2GILK8');\n",
    "ax1.set_xticklabels(labels=['2021-11-15','2021-12-01','2021-12-15','2022-01-01','2022-01-15','2022-02-01','2022-02-15'], rotation=45);\n",
    "ax1.set(xlabel='Date', ylabel='Frequency');\n",
    "\n",
    "ax2.bar(x=foreground_1.index, height=foreground_1.values, color='red')\n",
    "# ax2.tick_params(rotation=45);\n",
    "ax2.set_title('DESKTOP-E83M0TM');\n",
    "ax2.set_xticklabels(labels=['2021-11-15','2021-12-01','2021-12-15','2022-01-01','2022-01-15','2022-02-01','2022-02-15'], rotation=45);\n",
    "ax2.set(xlabel='Date', ylabel='Frequency');"
   ]
  },
  {
   "cell_type": "code",
   "execution_count": 99,
   "id": "6a9b4f31-7f87-4789-b1c5-6babeb8b3ab5",
   "metadata": {
    "tags": []
   },
   "outputs": [],
   "source": [
    "def clean_lstm_2(df, computer=0, time_max=60):\n",
    "    \n",
    "    temp = df.copy()\n",
    "    \n",
    "    # getting foreground applications only\n",
    "    temp = temp[temp['ID_INPUT'] == 3].drop(['ID_INPUT', 'PRIVATE_DATA'], axis=1).reset_index(drop=True)\n",
    "    # converting 'MEASUREMENT_TIME' column to datetime\n",
    "    temp.loc[:, 'MEASUREMENT_TIME'] = pd.to_datetime(temp['MEASUREMENT_TIME'])\n",
    "    # getting values only between '2021-11-20' and '2021-12-10' for laptop data\n",
    "    if computer == 0:\n",
    "        temp = temp[(temp['MEASUREMENT_TIME'] >= pd.to_datetime('2021-11-20')) & (temp['MEASUREMENT_TIME'] <= pd.to_datetime('2021-12-10'))].reset_index(drop=True)\n",
    "    # getting values after '2022-01-07' for desktop data\n",
    "    else:\n",
    "        temp = temp[temp['MEASUREMENT_TIME'] >= pd.to_datetime('2022-01-07')].reset_index(drop=True)\n",
    "    # using converted datetime column to get usage per application ('TIME_DELTA')\n",
    "    time_delta = (temp['MEASUREMENT_TIME'].shift(periods=-1) - temp['MEASUREMENT_TIME']).drop(len(temp)-1).apply(lambda x: float(x.total_seconds() / 60))\n",
    "    time_delta = time_delta.append(pd.Series(-1), ignore_index=True)\n",
    "    # getting usage per future application ('TIME_DELTA_1')\n",
    "    time_delta_1 = time_delta.shift(-1)\n",
    "    # adding 'TIME_DELTA' and 'TIME_DELTA_1' to DataFrame, dropping last instances with no values, and converting outliers (large numbers) to 60 minute values\n",
    "    temp = temp.assign(**{'TIME_DELTA': time_delta, 'TIME_DELTA_1': time_delta_1})\n",
    "    temp = temp.drop([len(temp)-2, len(temp)-1]).drop(['MEASUREMENT_TIME', 'VALUE'], axis=1)\n",
    "    # maxing the time spent per foreground at 60 minutes, as users are very likely to be inactive after 60 mins\n",
    "    temp = temp.applymap(lambda x: 60 if x > 60 else x)\n",
    "    \n",
    "    return temp\n",
    "\n",
    "def split_lstm_2(df, test_size=0.2):\n",
    "    \n",
    "    # defining splits\n",
    "    train_size = 1 - test_size\n",
    "    n_test = int(np.ceil(len(df) * test_size))\n",
    "    n_train = int(np.floor(len(df) * train_size))\n",
    "    train = df.loc[:n_train, ['TIME_DELTA', 'TIME_DELTA_1']].to_numpy().reshape(-1,2)\n",
    "    test = df.loc[n_train:, ['TIME_DELTA', 'TIME_DELTA_1']].to_numpy().reshape(-1,2)\n",
    "    \n",
    "    # fitting scaler with training set\n",
    "    scaler = StandardScaler()\n",
    "    scaler.fit(train[:, 0].reshape(-1,1))\n",
    "    train = scaler.transform(train[:, 0].reshape(-1,1))\n",
    "    test = scaler.transform(test[:, 0].reshape(-1,1))\n",
    "    X_train, y_train = [], []\n",
    "    X_test, y_test = [], []\n",
    "    \n",
    "    # getting 5 previous events to use for single next prediction\n",
    "    n_past = 5\n",
    "    n_future = 1\n",
    "    for i in range(n_past, len(train) - n_future + 1):\n",
    "        X_train.append(train[i-n_past: i])\n",
    "        y_train.append(train[i+n_future-1: i+n_future])\n",
    "    X_train, y_train = np.array(X_train), np.array(y_train)\n",
    "\n",
    "    for i in range(n_past, len(test) - n_future + 1):\n",
    "        X_test.append(test[i-n_past: i])\n",
    "        y_test.append(test[i+n_future-1: i+n_future])\n",
    "    X_test, y_test = np.array(X_test), np.array(y_test)\n",
    "    \n",
    "    return X_train, X_test, y_train, y_test\n",
    "\n",
    "def lstm_2(X_train, y_train):\n",
    "    \n",
    "    # defining model with 2 LSTM layers\n",
    "    model = keras.Sequential()\n",
    "    model.add(keras.layers.LSTM(64, activation='relu', input_shape=(X_train.shape[1], X_train.shape[2]), return_sequences=True))\n",
    "    model.add(keras.layers.Dropout(0.2))\n",
    "    model.add(keras.layers.LSTM(32, activation='relu'))\n",
    "    model.add(keras.layers.Dense(1))\n",
    "    # defining optimizer and loss function\n",
    "    model.compile(optimizer='adam', loss='mae')\n",
    "    \n",
    "    return model"
   ]
  },
  {
   "cell_type": "code",
   "execution_count": 110,
   "id": "559bf13c-63f6-45af-9d9d-5ab79312f835",
   "metadata": {
    "tags": []
   },
   "outputs": [
    {
     "name": "stdout",
     "output_type": "stream",
     "text": [
      "Epoch 1/10\n",
      "137/137 [==============================] - 2s 6ms/step - loss: 0.2717 - val_loss: 0.2752\n",
      "Epoch 2/10\n",
      "137/137 [==============================] - 1s 4ms/step - loss: 0.2546 - val_loss: 0.2748\n",
      "Epoch 3/10\n",
      "137/137 [==============================] - 1s 4ms/step - loss: 0.2544 - val_loss: 0.2748\n",
      "Epoch 4/10\n",
      "137/137 [==============================] - 1s 4ms/step - loss: 0.2542 - val_loss: 0.2747\n",
      "Epoch 5/10\n",
      "137/137 [==============================] - 1s 4ms/step - loss: 0.2540 - val_loss: 0.2749\n",
      "Epoch 6/10\n",
      "137/137 [==============================] - 1s 4ms/step - loss: 0.2540 - val_loss: 0.2745\n",
      "Epoch 7/10\n",
      "137/137 [==============================] - 1s 4ms/step - loss: 0.2539 - val_loss: 0.2748\n",
      "Epoch 8/10\n",
      "137/137 [==============================] - 1s 4ms/step - loss: 0.2538 - val_loss: 0.2746\n",
      "Epoch 9/10\n",
      "137/137 [==============================] - 1s 4ms/step - loss: 0.2539 - val_loss: 0.2746\n",
      "Epoch 10/10\n",
      "137/137 [==============================] - 1s 4ms/step - loss: 0.2536 - val_loss: 0.2747\n"
     ]
    }
   ],
   "source": [
    "# cleaning data\n",
    "df = clean_lstm_2(string_df_0)\n",
    "\n",
    "# splitting data\n",
    "X_train, X_test, y_train, y_test = split_lstm_2(df)\n",
    "\n",
    "# initializing LSTM\n",
    "model = lstm_2(X_train, y_train)\n",
    "\n",
    "# fitting training data to model\n",
    "model.fit(X_train, y_train, batch_size=16, epochs=10, validation_split=0.1, shuffle=False)\n",
    "\n",
    "# getting predictions\n",
    "y_pred = model.predict(X_test)\n",
    "\n",
    "# # saving predictions to .txt file\n",
    "# output = pd.Series(y_pred.flatten())\n",
    "# output.to_csv('./output_lstm_2', header=True, index=None, sep=',', mode='w')"
   ]
  },
  {
   "cell_type": "code",
   "execution_count": 103,
   "id": "32c2534d-d93d-4403-a471-edc82f97012d",
   "metadata": {},
   "outputs": [
    {
     "data": {
      "image/png": "[encoded data removed]",
      "text/plain": [
       "<Figure size 432x288 with 1 Axes>"
      ]
     },
     "metadata": {},
     "output_type": "display_data"
    }
   ],
   "source": [
    "# plotting training and validation losses\n",
    "plt.plot(np.arange(10), history.history['loss'], label='train_loss', c='blue')\n",
    "plt.plot(np.arange(10), history.history['val_loss'], label='val_loss', c='red')\n",
    "plt.ylabel('loss');\n",
    "plt.xlabel('epoch');\n",
    "plt.legend();"
   ]
  }
 ],
 "metadata": {
  "kernelspec": {
   "display_name": "Python 3 (ipykernel)",
   "language": "python",
   "name": "python3"
  },
  "language_info": {
   "codemirror_mode": {
    "name": "ipython",
    "version": 3
   },
   "file_extension": ".py",
   "mimetype": "text/x-python",
   "name": "python",
   "nbconvert_exporter": "python",
   "pygments_lexer": "ipython3",
   "version": "3.9.7"
  }
 },
 "nbformat": 4,
 "nbformat_minor": 5
}
